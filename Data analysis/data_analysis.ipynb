{
 "cells": [
  {
   "cell_type": "code",
   "execution_count": 1,
   "metadata": {},
   "outputs": [],
   "source": [
    "import pandas as pd\n",
    "import numpy as np\n",
    "import matplotlib.pyplot as plt\n",
    "import seaborn as sns\n",
    "from data_analysis_config import col_name_map, TYPES_COLUMN_NAMES, categorize_by_quantile\n",
    "from itertools import chain\n",
    "\n"
   ]
  },
  {
   "attachments": {},
   "cell_type": "markdown",
   "metadata": {},
   "source": [
    "## **PRE-WORK**\n",
    "### PREPARE DATA\n",
    "1. Load data\n",
    "2. Rename columns\n",
    "3. Delete non-numeric columns\n"
   ]
  },
  {
   "cell_type": "code",
   "execution_count": 2,
   "metadata": {},
   "outputs": [],
   "source": [
    "# load dataframe\n",
    "key_df = pd.read_csv('../csv_output/merged_key_misspells.csv', sep=';')\n",
    "fp_df = pd.read_csv('../csv_output/fp.csv', sep=';')\n",
    "rand_df = pd.read_csv('../csv_output/merged_random_misspells.csv', sep=';')\n",
    "\n",
    "fp_df['amount_of_errors'] = 0\n",
    "\n",
    "# rename dataframe\n",
    "fp_df.rename(columns=col_name_map, inplace=True)\n",
    "key_df.rename(columns=col_name_map, inplace=True)\n",
    "rand_df.rename(columns=col_name_map, inplace=True)\n",
    "\n",
    "fp_df['Function'] = fp_df[\"Function\"].astype(\"category\")\n",
    "key_df['Function'] = key_df[\"Function\"].astype(\"category\")\n",
    "rand_df['Function'] = rand_df[\"Function\"].astype(\"category\")\n",
    "\n",
    "# delete strings\n",
    "fp_df = fp_df.select_dtypes(exclude=['object'])\n",
    "key_df = key_df.select_dtypes(exclude=['object'])\n",
    "rand_df = rand_df.select_dtypes(exclude=['object'])\n",
    "\n",
    "fp_df['Function'] = fp_df[\"Function\"].astype(\"object\")\n",
    "key_df['Function'] = key_df[\"Function\"].astype(\"object\")\n",
    "rand_df['Function'] = rand_df[\"Function\"].astype(\"object\")"
   ]
  },
  {
   "cell_type": "code",
   "execution_count": 3,
   "metadata": {},
   "outputs": [],
   "source": [
    "columns = ['Damerau–Levenshtein normalized similarity'] + [col for cat in TYPES_COLUMN_NAMES.values() for col in cat] + ['Function', 'Amount of misspells (in input sentence)']\n",
    "fp_df = fp_df[columns]\n",
    "key_df = key_df[columns]\n",
    "rand_df = rand_df[columns]"
   ]
  },
  {
   "attachments": {},
   "cell_type": "markdown",
   "metadata": {},
   "source": [
    "### Add each sentence to a bucket: \n",
    "1. [1, 3) errors\n",
    "2. [3, 6) errors\n",
    "3. [6, +inf)"
   ]
  },
  {
   "cell_type": "code",
   "execution_count": 4,
   "metadata": {},
   "outputs": [],
   "source": [
    "key_df['Bucket'] = key_df['Amount of misspells (in input sentence)'].apply(lambda x: 1 if x < 3 else ( 2 if 3 <= x <= 5 else 3))\n",
    "rand_df['Bucket'] = key_df['Amount of misspells (in input sentence)'].apply(lambda x: 1 if x < 3 else ( 2 if 3 <= x <= 5 else 3))"
   ]
  },
  {
   "cell_type": "code",
   "execution_count": 5,
   "metadata": {},
   "outputs": [],
   "source": [
    "key_based_dataframes = [key_df.loc[key_df['Bucket'] == i].reset_index(drop=True) for i in range(1, 4)]\n",
    "rand_based_dataframe = [rand_df.loc[rand_df['Bucket'] == i].reset_index(drop=True)  for i in range(1, 4)]\n",
    "del key_df, rand_df\n"
   ]
  },
  {
   "attachments": {},
   "cell_type": "markdown",
   "metadata": {},
   "source": [
    "#### Define quantiles and categorize each of metrics (basing on perfect match & quantiles)"
   ]
  },
  {
   "cell_type": "code",
   "execution_count": 6,
   "metadata": {},
   "outputs": [],
   "source": [
    "config = pd.DataFrame()\n",
    "CATEGORIES = [1,2,3,4] # WHERE 1 IS TOP and 4 IS BOTTOM\n",
    "\n",
    "\n",
    "for by in list(chain.from_iterable(TYPES_COLUMN_NAMES.values())):\n",
    "    # define the quantiles\n",
    "    quantiles = {\"key\": [], 'rand': [], 'fp': []}\n",
    "    for i in range(len(key_based_dataframes)):\n",
    "        quantiles['key'].append(key_based_dataframes[i][by].quantile([0.25, 0.5, 0.75]).values)\n",
    "        quantiles['rand'].append(rand_based_dataframe[i][by].quantile([0.25, 0.5, 0.75]).values)\n",
    "    quantiles['fp'] = (fp_df[by].quantile([0.25, 0.5, 0.75]).values)\n",
    "\n",
    "\n",
    "    if 'normalized similarity'.lower() in by.lower():\n",
    "        ascending = True\n",
    "        goal = 1.0\n",
    "    else: \n",
    "        ascending = False\n",
    "        goal = 0.0\n",
    "\n",
    "\n",
    "    for i in range(len(quantiles['key'])):\n",
    "        config[f'{by} key group {i} bucket'] = np.concatenate((quantiles['key'][i], [goal, ascending]))\n",
    "        config[f'{by} rand group {i} bucket'] = np.concatenate(\n",
    "            (quantiles['rand'][i], [goal, ascending])\n",
    "        )\n",
    "    # assign to config quantiles, goal and ascending    \n",
    "    config[f'{by} fp quantiles'] = np.concatenate((quantiles['fp'], [goal, ascending]))\n",
    "\n",
    "    for k in range(len(key_based_dataframes)):\n",
    "        key_based_dataframes[k].insert(list(key_based_dataframes[k].columns).index(by), by + \" Result category\" , key_based_dataframes[k][by].apply(lambda x: categorize_by_quantile(x, goal, quantiles['key'][k], values = CATEGORIES, ascending_is_better=ascending)))\n",
    "        rand_based_dataframe[k].insert(list(rand_based_dataframe[k].columns).index(by), by + \" Result category\" , rand_based_dataframe[k][by].apply(lambda x: categorize_by_quantile(x, goal, quantiles['rand'][k], values =  CATEGORIES, ascending_is_better=ascending)))\n",
    "    fp_df.insert(list(fp_df.columns).index(by), by + \" Result category\" , fp_df[by].apply(lambda x: categorize_by_quantile(x, goal, quantiles['fp'], values =  CATEGORIES, ascending_is_better=ascending)))\n"
   ]
  },
  {
   "cell_type": "code",
   "execution_count": 7,
   "metadata": {},
   "outputs": [],
   "source": [
    "config = config.transpose()\n"
   ]
  },
  {
   "cell_type": "code",
   "execution_count": 8,
   "metadata": {},
   "outputs": [],
   "source": [
    "config.columns\n",
    "names = {0: 'quantile 1', 1: 'quantile 2', 2: 'quantile 3', 3: 'Goal', 4: 'Ascending'}\n",
    "config.rename(names, inplace=True, axis=1)\n"
   ]
  },
  {
   "attachments": {},
   "cell_type": "markdown",
   "metadata": {},
   "source": [
    "#### Define CONSTS"
   ]
  },
  {
   "cell_type": "code",
   "execution_count": 9,
   "metadata": {},
   "outputs": [],
   "source": [
    "COLUMNS_FOR_RESULT_CATEGORY = [col for col in fp_df.columns if 'Result category' in col]\n",
    "COLUMN_NAMES_FOR_CATEGORIES = ['Full correctness', 'First range', 'Second range', 'Third range']"
   ]
  },
  {
   "attachments": {},
   "cell_type": "markdown",
   "metadata": {},
   "source": [
    "#### Filter columns"
   ]
  },
  {
   "cell_type": "code",
   "execution_count": 10,
   "metadata": {},
   "outputs": [],
   "source": [
    "for k in range(len(key_based_dataframes)):\n",
    "    key_based_dataframes[k] = key_based_dataframes[k][COLUMNS_FOR_RESULT_CATEGORY + ['Function']]\n",
    "    rand_based_dataframe[k] = rand_based_dataframe[k][COLUMNS_FOR_RESULT_CATEGORY + ['Function']]\n",
    "fp_df = fp_df[COLUMNS_FOR_RESULT_CATEGORY + ['Function']]\n"
   ]
  },
  {
   "cell_type": "code",
   "execution_count": 11,
   "metadata": {},
   "outputs": [],
   "source": [
    "def get_summary(data_frame, column_names_for_values: list, category_values_to_parse: list, normalized_values: bool = False):\n",
    "    scores = pd.DataFrame()\n",
    "    for by in data_frame.columns[:-1]:\n",
    "        # Compute the cross-tabulation of the 'Function' and the column\n",
    "        scores = pd.concat([scores, data_frame.groupby('Function')[by].agg(\n",
    "            [(f'{column_names_for_values[0]} {by}', lambda x: (x == category_values_to_parse[0]).sum()),\n",
    "             #  ])])\n",
    "             (f'{column_names_for_values[1]} {by}', lambda x: (x == category_values_to_parse[1]).sum()),\n",
    "             (f'{column_names_for_values[2]} {by}', lambda x: (x == category_values_to_parse[2]).sum()),\n",
    "             (f'{column_names_for_values[3]} {by}', lambda x: (x == category_values_to_parse[3]).sum()),\n",
    "\n",
    "             ])], axis=1)\n",
    "\n",
    "    scores = pd.concat([scores, data_frame.groupby('Function')[data_frame.columns[0]].agg(\n",
    "        [('Total count', 'count')])], axis=1)\n",
    "    if normalized_values:\n",
    "        for col_name in scores.columns[:-1]:\n",
    "            scores[col_name] = scores[col_name] / scores['Total count']\n",
    "    return scores\n",
    "    "
   ]
  },
  {
   "cell_type": "code",
   "execution_count": 12,
   "metadata": {},
   "outputs": [],
   "source": [
    "def get_weitghted_average (dataframe, weights, only_average_columns=False):\n",
    "    for i in COLUMNS_FOR_RESULT_CATEGORY:\n",
    "        summary_column_names = [k for k in dataframe.columns if i in k]\n",
    "        dataframe[f'Weighted average {i}'] = dataframe[summary_column_names].dot(weights)\n",
    "    averages_columns = [k for k in dataframe.columns if \"Weighted average\" in k]\n",
    "\n",
    "    if only_average_columns:\n",
    "        return dataframe[averages_columns], averages_columns\n",
    "    return dataframe, averages_columns\n"
   ]
  },
  {
   "attachments": {},
   "cell_type": "markdown",
   "metadata": {},
   "source": [
    "## **ANALYSIS**"
   ]
  },
  {
   "cell_type": "code",
   "execution_count": 13,
   "metadata": {},
   "outputs": [],
   "source": [
    "summary = {}\n",
    "RANGE_WEIGTHS = [1,0,0,0] # weigths for perfect match  & quantiles \n",
    "# fp \n",
    "summary_df, averages_columns = get_weitghted_average(get_summary(fp_df, column_names_for_values=COLUMN_NAMES_FOR_CATEGORIES, category_values_to_parse=CATEGORIES, normalized_values=True), RANGE_WEIGTHS)\n",
    "summary_df['Summary'] = summary_df[averages_columns].sum(axis=1)\n",
    "summary['FP'] = summary_df\n",
    "for k in range(len(key_based_dataframes)):\n",
    "    # key based\n",
    "    summary_df, averages_columns = get_weitghted_average(get_summary(key_based_dataframes[k], column_names_for_values=COLUMN_NAMES_FOR_CATEGORIES, category_values_to_parse=CATEGORIES, normalized_values=True), RANGE_WEIGTHS)\n",
    "    summary_df['Summary'] = summary_df[averages_columns].sum(axis=1)\n",
    "    summary[f'key {k+1}'] = summary_df\n",
    "    # random\n",
    "    summary_df, averages_columns = get_weitghted_average(get_summary(rand_based_dataframe[k], column_names_for_values=COLUMN_NAMES_FOR_CATEGORIES, category_values_to_parse=CATEGORIES, normalized_values=True), RANGE_WEIGTHS)\n",
    "    summary_df['Summary'] = summary_df[averages_columns].sum(axis=1)\n",
    "    summary[f'random {k+1}'] = summary_df\n",
    "    "
   ]
  },
  {
   "cell_type": "code",
   "execution_count": 18,
   "metadata": {},
   "outputs": [],
   "source": [
    "# Concatenate the columns from each dataframe into a single dataframe\n",
    "merged_column_df = pd.concat([df[\"Summary\"] for df in summary.values()], axis=1,keys=summary.keys())\n",
    "\n",
    "# Set the index of the merged dataframe to the index of one of the source dataframes\n",
    "index_df = list(summary.values())[0]  # choose one of the source dataframes as index reference\n",
    "merged_column_df = merged_column_df.set_index(index_df.index)\n"
   ]
  },
  {
   "cell_type": "code",
   "execution_count": 22,
   "metadata": {},
   "outputs": [],
   "source": [
    "POINTS = [30, 25, 22, 18, 15, 12] + list(range(1, 10))\n",
    "\n",
    "total = pd.DataFrame(0, index=merged_column_df.index, columns=merged_column_df.columns)\n",
    "for col in merged_column_df.columns:\n",
    "    sorted_df = merged_column_df[col].sort_values(ascending=False)\n",
    "    for i, tool in enumerate(sorted_df.index[:15]):\n",
    "        total.loc[tool, col] = POINTS[i]\n"
   ]
  },
  {
   "cell_type": "code",
   "execution_count": 36,
   "metadata": {},
   "outputs": [],
   "source": [
    "# ERROR_TYPE_CATEGORY_WEIGTH = [1,1,1,1,1,1,1]\n",
    "ERROR_TYPE_CATEGORY_WEIGTH = [0.8, 1, 1, 0.8, 0.8, 0.3, 0.3]\n",
    "total['TOTAL'] = np.dot(merged_column_df, ERROR_TYPE_CATEGORY_WEIGTH)\n",
    "total.sort_values(by='TOTAL', inplace=True, ascending=False)\n"
   ]
  },
  {
   "cell_type": "code",
   "execution_count": 48,
   "metadata": {},
   "outputs": [
    {
     "data": {
      "text/html": [
       "<div>\n",
       "<style scoped>\n",
       "    .dataframe tbody tr th:only-of-type {\n",
       "        vertical-align: middle;\n",
       "    }\n",
       "\n",
       "    .dataframe tbody tr th {\n",
       "        vertical-align: top;\n",
       "    }\n",
       "\n",
       "    .dataframe thead th {\n",
       "        text-align: right;\n",
       "    }\n",
       "</style>\n",
       "<table border=\"1\" class=\"dataframe\">\n",
       "  <thead>\n",
       "    <tr style=\"text-align: right;\">\n",
       "      <th></th>\n",
       "      <th>POINTS FOR TOP N</th>\n",
       "      <th>ERROR_TYPE_CATEGORY_WEIGTH (FP, [KEY(n), RAND(n)] for n in range(3))</th>\n",
       "      <th>PERFECT MATCH, 1-4 QUANTILES RESUULT WEIGHT</th>\n",
       "    </tr>\n",
       "  </thead>\n",
       "  <tbody>\n",
       "    <tr>\n",
       "      <th>0</th>\n",
       "      <td>30.0</td>\n",
       "      <td>0.8</td>\n",
       "      <td>1.0</td>\n",
       "    </tr>\n",
       "    <tr>\n",
       "      <th>1</th>\n",
       "      <td>25.0</td>\n",
       "      <td>1.0</td>\n",
       "      <td>0.0</td>\n",
       "    </tr>\n",
       "    <tr>\n",
       "      <th>2</th>\n",
       "      <td>22.0</td>\n",
       "      <td>1.0</td>\n",
       "      <td>0.0</td>\n",
       "    </tr>\n",
       "    <tr>\n",
       "      <th>3</th>\n",
       "      <td>18.0</td>\n",
       "      <td>0.8</td>\n",
       "      <td>0.0</td>\n",
       "    </tr>\n",
       "    <tr>\n",
       "      <th>4</th>\n",
       "      <td>15.0</td>\n",
       "      <td>0.8</td>\n",
       "      <td>NaN</td>\n",
       "    </tr>\n",
       "    <tr>\n",
       "      <th>5</th>\n",
       "      <td>12.0</td>\n",
       "      <td>0.3</td>\n",
       "      <td>NaN</td>\n",
       "    </tr>\n",
       "    <tr>\n",
       "      <th>6</th>\n",
       "      <td>1.0</td>\n",
       "      <td>0.3</td>\n",
       "      <td>NaN</td>\n",
       "    </tr>\n",
       "    <tr>\n",
       "      <th>7</th>\n",
       "      <td>2.0</td>\n",
       "      <td>NaN</td>\n",
       "      <td>NaN</td>\n",
       "    </tr>\n",
       "    <tr>\n",
       "      <th>8</th>\n",
       "      <td>3.0</td>\n",
       "      <td>NaN</td>\n",
       "      <td>NaN</td>\n",
       "    </tr>\n",
       "    <tr>\n",
       "      <th>9</th>\n",
       "      <td>4.0</td>\n",
       "      <td>NaN</td>\n",
       "      <td>NaN</td>\n",
       "    </tr>\n",
       "    <tr>\n",
       "      <th>10</th>\n",
       "      <td>5.0</td>\n",
       "      <td>NaN</td>\n",
       "      <td>NaN</td>\n",
       "    </tr>\n",
       "    <tr>\n",
       "      <th>11</th>\n",
       "      <td>6.0</td>\n",
       "      <td>NaN</td>\n",
       "      <td>NaN</td>\n",
       "    </tr>\n",
       "    <tr>\n",
       "      <th>12</th>\n",
       "      <td>7.0</td>\n",
       "      <td>NaN</td>\n",
       "      <td>NaN</td>\n",
       "    </tr>\n",
       "    <tr>\n",
       "      <th>13</th>\n",
       "      <td>8.0</td>\n",
       "      <td>NaN</td>\n",
       "      <td>NaN</td>\n",
       "    </tr>\n",
       "    <tr>\n",
       "      <th>14</th>\n",
       "      <td>9.0</td>\n",
       "      <td>NaN</td>\n",
       "      <td>NaN</td>\n",
       "    </tr>\n",
       "  </tbody>\n",
       "</table>\n",
       "</div>"
      ],
      "text/plain": [
       "    POINTS FOR TOP N  \\\n",
       "0               30.0   \n",
       "1               25.0   \n",
       "2               22.0   \n",
       "3               18.0   \n",
       "4               15.0   \n",
       "5               12.0   \n",
       "6                1.0   \n",
       "7                2.0   \n",
       "8                3.0   \n",
       "9                4.0   \n",
       "10               5.0   \n",
       "11               6.0   \n",
       "12               7.0   \n",
       "13               8.0   \n",
       "14               9.0   \n",
       "\n",
       "    ERROR_TYPE_CATEGORY_WEIGTH (FP, [KEY(n), RAND(n)] for n in range(3))  \\\n",
       "0                                                 0.8                      \n",
       "1                                                 1.0                      \n",
       "2                                                 1.0                      \n",
       "3                                                 0.8                      \n",
       "4                                                 0.8                      \n",
       "5                                                 0.3                      \n",
       "6                                                 0.3                      \n",
       "7                                                 NaN                      \n",
       "8                                                 NaN                      \n",
       "9                                                 NaN                      \n",
       "10                                                NaN                      \n",
       "11                                                NaN                      \n",
       "12                                                NaN                      \n",
       "13                                                NaN                      \n",
       "14                                                NaN                      \n",
       "\n",
       "    PERFECT MATCH, 1-4 QUANTILES RESUULT WEIGHT  \n",
       "0                                           1.0  \n",
       "1                                           0.0  \n",
       "2                                           0.0  \n",
       "3                                           0.0  \n",
       "4                                           NaN  \n",
       "5                                           NaN  \n",
       "6                                           NaN  \n",
       "7                                           NaN  \n",
       "8                                           NaN  \n",
       "9                                           NaN  \n",
       "10                                          NaN  \n",
       "11                                          NaN  \n",
       "12                                          NaN  \n",
       "13                                          NaN  \n",
       "14                                          NaN  "
      ]
     },
     "execution_count": 48,
     "metadata": {},
     "output_type": "execute_result"
    }
   ],
   "source": [
    "consts = {\n",
    "\"POINTS FOR TOP N\": tuple(POINTS) , \n",
    "\"ERROR_TYPE_CATEGORY_WEIGTH (FP, [KEY(n), RAND(n)] for n in range(3))\": tuple(ERROR_TYPE_CATEGORY_WEIGTH), \n",
    "\"PERFECT MATCH, 1-4 QUANTILES RESUULT WEIGHT\": tuple(RANGE_WEIGTHS)\n",
    "}\n",
    "consts = pd.DataFrame.from_dict(consts, orient='index').transpose()"
   ]
  },
  {
   "cell_type": "code",
   "execution_count": 52,
   "metadata": {},
   "outputs": [
    {
     "data": {
      "text/plain": [
       "dict_keys(['FP', 'key 1', 'random 1', 'key 2', 'random 2', 'key 3', 'random 3'])"
      ]
     },
     "execution_count": 52,
     "metadata": {},
     "output_type": "execute_result"
    }
   ],
   "source": []
  },
  {
   "cell_type": "code",
   "execution_count": 54,
   "metadata": {},
   "outputs": [],
   "source": [
    "with pd.ExcelWriter('multiple_sheets.xlsx') as writer:\n",
    "    consts.to_excel(writer, sheet_name='consts_config', index=False)\n",
    "    config.to_excel(writer, sheet_name='config', index=True)\n",
    "    for k in summary.keys():\n",
    "        summary[k].to_excel(writer, sheet_name=f'{k}', index=True)\n",
    "    merged_column_df.to_excel(writer, sheet_name='merged columns', index=True)\n",
    "    total.to_excel(writer, sheet_name='total', index=True)"
   ]
  },
  {
   "cell_type": "code",
   "execution_count": 34,
   "metadata": {},
   "outputs": [
    {
     "ename": "IndexError",
     "evalue": "index 3 is out of bounds for axis 0 with size 3",
     "output_type": "error",
     "traceback": [
      "\u001b[0;31m---------------------------------------------------------------------------\u001b[0m",
      "\u001b[0;31mIndexError\u001b[0m                                Traceback (most recent call last)",
      "Cell \u001b[0;32mIn[34], line 5\u001b[0m\n\u001b[1;32m      3\u001b[0m grouped_df \u001b[39m=\u001b[39m scores\u001b[39m.\u001b[39mgroupby(\u001b[39m'\u001b[39m\u001b[39mbucket\u001b[39m\u001b[39m'\u001b[39m)\u001b[39m.\u001b[39msum()\n\u001b[1;32m      4\u001b[0m \u001b[39mfor\u001b[39;00m i, col \u001b[39min\u001b[39;00m \u001b[39menumerate\u001b[39m(grouped_df\u001b[39m.\u001b[39mcolumns):\n\u001b[0;32m----> 5\u001b[0m     sns\u001b[39m.\u001b[39mbarplot(data\u001b[39m=\u001b[39mgrouped_df, x\u001b[39m=\u001b[39mgrouped_df\u001b[39m.\u001b[39mindex, y\u001b[39m=\u001b[39mcol, ax\u001b[39m=\u001b[39maxs[i], palette\u001b[39m=\u001b[39m\u001b[39m'\u001b[39m\u001b[39mviridis\u001b[39m\u001b[39m'\u001b[39m)\n\u001b[1;32m      6\u001b[0m     axs[i]\u001b[39m.\u001b[39mset_xlabel(\u001b[39m'\u001b[39m\u001b[39mGroups\u001b[39m\u001b[39m'\u001b[39m)\n\u001b[1;32m      7\u001b[0m     axs[i]\u001b[39m.\u001b[39mset_ylabel(\u001b[39m'\u001b[39m\u001b[39mData\u001b[39m\u001b[39m'\u001b[39m)\n",
      "\u001b[0;31mIndexError\u001b[0m: index 3 is out of bounds for axis 0 with size 3"
     ]
    },
    {
     "data": {
      "image/png": "[encoded data removed]",
      "text/plain": [
       "<Figure size 1600x600 with 3 Axes>"
      ]
     },
     "metadata": {},
     "output_type": "display_data"
    }
   ],
   "source": [
    "sns.set(rc={'figure.figsize':(16,6)})\n",
    "fig, axs = plt.subplots(ncols=3)\n",
    "grouped_df = scores.groupby('bucket')\n",
    "for i, col in enumerate(grouped_df.columns):\n",
    "    sns.barplot(data=grouped_df, x=grouped_df.index, y=col, ax=axs[i], palette='viridis')\n",
    "    axs[i].set_xlabel('Groups')\n",
    "    axs[i].set_ylabel('Data')\n",
    "    axs[i].set_title(col)\n",
    "\n",
    "\n",
    "# scores[['Full correctness',\t'First range',\t'Second range']].plot(kind='bar', stacked = True)\n",
    "# plt.set_xlabel('Function')\n",
    "# plt.bar(scores.index, scores['Full correctness'], label='Full correctness')\n",
    "# plt.bar(scores.index, scores['Full correctness'], bottom=scores['First range'], label='Second range')\n",
    "\n",
    "sns.barplot(data=scores, x=scores.index, y=COLUMN_NAMES_FOR_CATEGORIES[0], color='blue', label=by)\n",
    "sns.barplot(data=scores, x=scores.index, y=COLUMN_NAMES_FOR_CATEGORIES[1], color='green', bottom=scores[COLUMN_NAMES_FOR_CATEGORIES[0]], label=by)\n",
    "sns.barplot(data=scores, x=scores.index, y=COLUMN_NAMES_FOR_CATEGORIES[2], color='red', bottom=scores[COLUMN_NAMES_FOR_CATEGORIES[0]] + scores[COLUMN_NAMES_FOR_CATEGORIES[1]], label=by)\n",
    "\n",
    "# Set labels and legend\n",
    "plt.xticks(rotation=90)\n",
    "plt.rcParams[\"axes.labelsize\"] = 7\n",
    "plt.xlabel('Groups')\n",
    "plt.ylabel('Data')\n",
    "plt.title('Stacked Bar Plot')\n",
    "plt.legend()\n",
    "\n",
    "# Show plot\n",
    "plt.show()\n",
    "\n",
    "\n",
    "# plt.bar =\n",
    "\n",
    "### potrojny "
   ]
  }
 ],
 "metadata": {
  "kernelspec": {
   "display_name": "venv",
   "language": "python",
   "name": "python3"
  },
  "language_info": {
   "codemirror_mode": {
    "name": "ipython",
    "version": 3
   },
   "file_extension": ".py",
   "mimetype": "text/x-python",
   "name": "python",
   "nbconvert_exporter": "python",
   "pygments_lexer": "ipython3",
   "version": "3.10.8"
  },
  "orig_nbformat": 4
 },
 "nbformat": 4,
 "nbformat_minor": 2
}
